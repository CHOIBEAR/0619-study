{
 "cells": [
  {
   "cell_type": "code",
   "execution_count": 1,
   "id": "17ea66b9",
   "metadata": {},
   "outputs": [
    {
     "name": "stdout",
     "output_type": "stream",
     "text": [
      "Hello World Python is fun Life is \n",
      "too short, You need \n",
      "python Life is too short, \n",
      "   You need python\n"
     ]
    }
   ],
   "source": [
    "a = \"Hello World\"\n",
    "b = 'Python is fun'\n",
    "c = \"\"\"Life is \n",
    "too short, You need \n",
    "python\"\"\"\n",
    "d = '''Life is too short, \n",
    "   You need python'''\n",
    "print(a, b, c, d)"
   ]
  },
  {
   "cell_type": "code",
   "execution_count": null,
   "id": "c3e65cf3",
   "metadata": {},
   "outputs": [],
   "source": [
    "a = '\"Python\" is fun'\n",
    "print(a)"
   ]
  },
  {
   "cell_type": "code",
   "execution_count": null,
   "id": "5154804a",
   "metadata": {},
   "outputs": [],
   "source": [
    "'''\n",
    "1. a 변수에 정수의 값을 넣기\n",
    "2. a 변수를 콘솔에 값을 출력하기\n",
    "'''\n",
    "a = 100\n",
    "print(a)"
   ]
  },
  {
   "cell_type": "code",
   "execution_count": null,
   "id": "b91c75de",
   "metadata": {},
   "outputs": [],
   "source": [
    "a = 'Life is too short \\n You need \\t python'\n",
    "print(a)"
   ]
  },
  {
   "cell_type": "code",
   "execution_count": 2,
   "id": "c6671786",
   "metadata": {},
   "outputs": [
    {
     "name": "stdout",
     "output_type": "stream",
     "text": [
      "Life is too short You need python\n",
      "Life is too short You need python\n",
      "Life is too short You need python\n",
      "\n"
     ]
    }
   ],
   "source": [
    "a = 'Life is too short You need python'\n",
    "print((a + '\\n') * 3)"
   ]
  }
 ],
 "metadata": {
  "kernelspec": {
   "display_name": "Python 3",
   "language": "python",
   "name": "python3"
  },
  "language_info": {
   "codemirror_mode": {
    "name": "ipython",
    "version": 3
   },
   "file_extension": ".py",
   "mimetype": "text/x-python",
   "name": "python",
   "nbconvert_exporter": "python",
   "pygments_lexer": "ipython3",
   "version": "3.13.5"
  }
 },
 "nbformat": 4,
 "nbformat_minor": 5
}
