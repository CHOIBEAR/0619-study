{
 "cells": [
  {
   "cell_type": "code",
   "execution_count": 1,
   "id": "f96e8fcb",
   "metadata": {},
   "outputs": [
    {
     "name": "stdout",
     "output_type": "stream",
     "text": [
      "136\n"
     ]
    }
   ],
   "source": [
    "# 숫자\n",
    "a = 100 + 36\n",
    "print(a)"
   ]
  },
  {
   "cell_type": "code",
   "execution_count": 2,
   "id": "99d8b56e",
   "metadata": {},
   "outputs": [
    {
     "name": "stdout",
     "output_type": "stream",
     "text": [
      "문자열\t'출력' 하세요.\n"
     ]
    }
   ],
   "source": [
    "# 문자열\n",
    "a = '문자열' + '\\t' + \"'출력' 하세요.\"\n",
    "print(a)"
   ]
  },
  {
   "cell_type": "code",
   "execution_count": 3,
   "id": "b4ac8d18",
   "metadata": {},
   "outputs": [
    {
     "name": "stdout",
     "output_type": "stream",
     "text": [
      "이\n",
      "내용이\n"
     ]
    }
   ],
   "source": [
    "a = '내용이 들어 있습니다.'\n",
    "print(a[2])\n",
    "print(a[:3])"
   ]
  },
  {
   "cell_type": "code",
   "execution_count": 7,
   "id": "45bb2061",
   "metadata": {},
   "outputs": [
    {
     "name": "stdout",
     "output_type": "stream",
     "text": [
      "내용이 들어 있습니다. <class 'str'>\n"
     ]
    }
   ],
   "source": [
    "a = '내용이 들어 있습니다.'\n",
    "print(a, type(a))"
   ]
  },
  {
   "cell_type": "code",
   "execution_count": null,
   "id": "4f9c26fc",
   "metadata": {},
   "outputs": [],
   "source": [
    "제어문\n",
    "1. 조건문 : if \n",
    "2. 반복문 : for, while"
   ]
  },
  {
   "cell_type": "code",
   "execution_count": null,
   "id": "4bc73697",
   "metadata": {},
   "outputs": [],
   "source": [
    "a = 5\n",
    "print(a == 5) # True\n",
    "print(a != 5) # False\n",
    "print(a >  3) # True\n",
    "print(a <  3) # False"
   ]
  },
  {
   "cell_type": "code",
   "execution_count": 22,
   "id": "3c6c9ac2",
   "metadata": {},
   "outputs": [
    {
     "name": "stdout",
     "output_type": "stream",
     "text": [
      "참\n"
     ]
    }
   ],
   "source": [
    "a = 10 == 10\n",
    "\n",
    "if a:\n",
    "    print('참')\n",
    "else:\n",
    "    print('다르다')"
   ]
  },
  {
   "cell_type": "code",
   "execution_count": null,
   "id": "38ce9f93",
   "metadata": {},
   "outputs": [
    {
     "name": "stdout",
     "output_type": "stream",
     "text": [
      "다르다\n"
     ]
    }
   ],
   "source": [
    "a = 10 == 3\n",
    "if a:\n",
    "    print('참')\n",
    "    pirnt('결과1')\n",
    "    print('맞다')\n",
    "else:\n",
    "    print('결과2')\n",
    "    print('다르다')"
   ]
  },
  {
   "cell_type": "code",
   "execution_count": 21,
   "id": "e4b7de03",
   "metadata": {},
   "outputs": [
    {
     "name": "stdout",
     "output_type": "stream",
     "text": [
      "-2500\n",
      "일해 백수새기야\n"
     ]
    }
   ],
   "source": [
    "지갑 = 10000\n",
    "음식 = 2500\n",
    "구매수량 = 5\n",
    "print(지갑 - (음식 * 구매수량))\n",
    "\n",
    "지불할금액 = 12500\n",
    "\n",
    "if  지불할금액 == (지갑 - (음식 * 구매수량)):\n",
    "    print('삶이 여유가 있어')\n",
    "else:\n",
    "    print('일해 백수새기야')"
   ]
  },
  {
   "cell_type": "code",
   "execution_count": 61,
   "id": "5902ae4c",
   "metadata": {},
   "outputs": [
    {
     "name": "stdout",
     "output_type": "stream",
     "text": [
      "100000\n",
      "현질 쌉가능\n"
     ]
    }
   ],
   "source": [
    "통장 = 100000\n",
    "현질 = 60000\n",
    "현질충동 = 0\n",
    "print(통장 - (현질 * 현질충동))\n",
    "\n",
    "예상잔액 = 통장 - (현질 * 현질충동)\n",
    "\n",
    "if 예상잔액 >= 0:\n",
    "    print('현질 쌉가능')\n",
    "else:\n",
    "    print('일해 개 백수 새기야 텅장이잖아 뭔 현질이야')"
   ]
  },
  {
   "cell_type": "code",
   "execution_count": 69,
   "id": "8bda89b8",
   "metadata": {},
   "outputs": [
    {
     "name": "stdout",
     "output_type": "stream",
     "text": [
      "40000\n",
      "현질 쌉가능\n"
     ]
    }
   ],
   "source": [
    "통장 = 100000\n",
    "현질 = 60000\n",
    "현질충동 = 1\n",
    "print(통장 - (현질 * 현질충동))\n",
    "\n",
    "예상잔액 = input('꼬우면 질러야지')\n",
    "\n",
    "if int(예상잔액) >= (통장 - (현질 * 현질충동)):\n",
    "    print('현질 쌉가능')\n",
    "else:\n",
    "    print('일해 개 백수 새기야 텅장이잖아 뭔 현질이야')"
   ]
  },
  {
   "cell_type": "code",
   "execution_count": 48,
   "id": "80a3b9e0",
   "metadata": {},
   "outputs": [
    {
     "name": "stdout",
     "output_type": "stream",
     "text": [
      "<class 'int'>\n"
     ]
    }
   ],
   "source": [
    "예상잔액 = int(input('꼬우면 질러야지'))\n",
    "print(type(예상잔액))"
   ]
  }
 ],
 "metadata": {
  "kernelspec": {
   "display_name": "Python 3",
   "language": "python",
   "name": "python3"
  },
  "language_info": {
   "codemirror_mode": {
    "name": "ipython",
    "version": 3
   },
   "file_extension": ".py",
   "mimetype": "text/x-python",
   "name": "python",
   "nbconvert_exporter": "python",
   "pygments_lexer": "ipython3",
   "version": "3.13.5"
  }
 },
 "nbformat": 4,
 "nbformat_minor": 5
}
