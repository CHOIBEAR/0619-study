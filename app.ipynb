{
 "cells": [
  {
   "cell_type": "code",
   "execution_count": null,
   "id": "0fe58416",
   "metadata": {},
   "outputs": [],
   "source": []
  },
  {
   "cell_type": "code",
   "execution_count": 1,
   "id": "f96e8fcb",
   "metadata": {},
   "outputs": [
    {
     "name": "stdout",
     "output_type": "stream",
     "text": [
      "136\n"
     ]
    }
   ],
   "source": [
    "# 숫자\n",
    "a = 100 + 36\n",
    "print(a)"
   ]
  },
  {
   "cell_type": "code",
   "execution_count": 2,
   "id": "99d8b56e",
   "metadata": {},
   "outputs": [
    {
     "name": "stdout",
     "output_type": "stream",
     "text": [
      "문자열\t'출력' 하세요.\n"
     ]
    }
   ],
   "source": [
    "# 문자열\n",
    "a = '문자열' + '\\t' + \"'출력' 하세요.\"\n",
    "print(a)"
   ]
  },
  {
   "cell_type": "code",
   "execution_count": 3,
   "id": "b4ac8d18",
   "metadata": {},
   "outputs": [
    {
     "name": "stdout",
     "output_type": "stream",
     "text": [
      "이\n",
      "내용이\n"
     ]
    }
   ],
   "source": [
    "a = '내용이 들어 있습니다.'\n",
    "print(a[2])\n",
    "print(a[:3])"
   ]
  },
  {
   "cell_type": "code",
   "execution_count": 7,
   "id": "45bb2061",
   "metadata": {},
   "outputs": [
    {
     "name": "stdout",
     "output_type": "stream",
     "text": [
      "내용이 들어 있습니다. <class 'str'>\n"
     ]
    }
   ],
   "source": [
    "a = '내용이 들어 있습니다.'\n",
    "print(a, type(a))"
   ]
  },
  {
   "cell_type": "code",
   "execution_count": null,
   "id": "4f9c26fc",
   "metadata": {},
   "outputs": [],
   "source": [
    "제어문\n",
    "1. 조건문 : if \n",
    "2. 반복문 : for, while"
   ]
  },
  {
   "cell_type": "code",
   "execution_count": null,
   "id": "4bc73697",
   "metadata": {},
   "outputs": [],
   "source": [
    "a = 5\n",
    "print(a == 5) # True\n",
    "print(a != 5) # False\n",
    "print(a >  3) # True\n",
    "print(a <  3) # False"
   ]
  },
  {
   "cell_type": "code",
   "execution_count": 22,
   "id": "3c6c9ac2",
   "metadata": {},
   "outputs": [
    {
     "name": "stdout",
     "output_type": "stream",
     "text": [
      "참\n"
     ]
    }
   ],
   "source": [
    "a = 10 == 10\n",
    "\n",
    "if a:\n",
    "    print('참')\n",
    "else:\n",
    "    print('다르다')"
   ]
  },
  {
   "cell_type": "code",
   "execution_count": null,
   "id": "38ce9f93",
   "metadata": {},
   "outputs": [
    {
     "name": "stdout",
     "output_type": "stream",
     "text": [
      "다르다\n"
     ]
    }
   ],
   "source": [
    "a = 10 == 3\n",
    "if a:\n",
    "    print('참')\n",
    "    pirnt('결과1')\n",
    "    print('맞다')\n",
    "else:\n",
    "    print('결과2')\n",
    "    print('다르다')"
   ]
  },
  {
   "cell_type": "code",
   "execution_count": 21,
   "id": "e4b7de03",
   "metadata": {},
   "outputs": [
    {
     "name": "stdout",
     "output_type": "stream",
     "text": [
      "-2500\n",
      "일해 백수새기야\n"
     ]
    }
   ],
   "source": [
    "지갑 = 10000\n",
    "음식 = 2500\n",
    "구매수량 = 5\n",
    "print(지갑 - (음식 * 구매수량))\n",
    "\n",
    "지불할금액 = 12500\n",
    "\n",
    "if  지불할금액 == (지갑 - (음식 * 구매수량)):\n",
    "    print('삶이 여유가 있어')\n",
    "else:\n",
    "    print('일해 백수새기야')"
   ]
  },
  {
   "cell_type": "code",
   "execution_count": 61,
   "id": "5902ae4c",
   "metadata": {},
   "outputs": [
    {
     "name": "stdout",
     "output_type": "stream",
     "text": [
      "100000\n",
      "현질 쌉가능\n"
     ]
    }
   ],
   "source": [
    "통장 = 100000\n",
    "현질 = 60000\n",
    "현질충동 = 0\n",
    "print(통장 - (현질 * 현질충동))\n",
    "\n",
    "예상잔액 = 통장 - (현질 * 현질충동)\n",
    "\n",
    "if 예상잔액 >= 0:\n",
    "    print('현질 쌉가능')\n",
    "else:\n",
    "    print('일해 개 백수 새기야 텅장이잖아 뭔 현질이야')"
   ]
  },
  {
   "cell_type": "code",
   "execution_count": 69,
   "id": "8bda89b8",
   "metadata": {},
   "outputs": [
    {
     "name": "stdout",
     "output_type": "stream",
     "text": [
      "40000\n",
      "현질 쌉가능\n"
     ]
    }
   ],
   "source": [
    "통장 = 100000\n",
    "현질 = 60000\n",
    "현질충동 = 1\n",
    "print(통장 - (현질 * 현질충동))\n",
    "\n",
    "예상잔액 = input('꼬우면 질러야지')\n",
    "\n",
    "if int(예상잔액) >= (통장 - (현질 * 현질충동)):\n",
    "    print('현질 쌉가능')\n",
    "else:\n",
    "    print('일해 개 백수 새기야 텅장이잖아 뭔 현질이야')"
   ]
  },
  {
   "cell_type": "code",
   "execution_count": 48,
   "id": "80a3b9e0",
   "metadata": {},
   "outputs": [
    {
     "name": "stdout",
     "output_type": "stream",
     "text": [
      "<class 'int'>\n"
     ]
    }
   ],
   "source": [
    "예상잔액 = int(input('꼬우면 질러야지'))\n",
    "print(type(예상잔액))"
   ]
  },
  {
   "cell_type": "code",
   "execution_count": null,
   "id": "0ac77a9c",
   "metadata": {},
   "outputs": [],
   "source": [
    "음료수를 구매 할 수 있는 자판기 입니다.\n",
    "음료수 종류 및 개당 금액\n",
    "- 콜라 : 1700원\n",
    "- 칠성사이다 : 1500원\n",
    "- 환타 : 1600원\n",
    "- 레몬녹차 : 1000원"
   ]
  },
  {
   "cell_type": "code",
   "execution_count": null,
   "id": "ca89d3d7",
   "metadata": {},
   "outputs": [],
   "source": [
    "선택한음료 = input('버튼을 눌러 음료수를 선택해 주세요.')\n",
    "\n",
    "if 선택한음료 == '콜라':\n",
    "    print('음료 선택 콜라 1700원')\n",
    "    금액= 1700\n",
    "elif 선택한음료 == '칠성사이다':\n",
    "    print('음료 선택 칠성사이다 1500원')\n",
    "    금액 = 1500\n",
    "elif 선택한음료 == '환타':\n",
    "    print('음료선택 환타 1600원')\n",
    "    금액 = 1600\n",
    "elif 선택한음료 == '레몬녹차':\n",
    "    print('음료선택 레몬녹차 1000원')\n",
    "    금액 = 1000\n",
    "else:\n",
    "    print('술은 집에가서 마셔 이 새기야')\n",
    "    \n",
    "# '문제1) 아래의 조건문에서 해당 음료수를 선택했을 경우 금액을 알려주고 수량을 받는 입력창을 띄우세요.'\n",
    "수량 = input('수량을 입력')\n",
    "\n",
    "# '문제2) 선택한 음료와수량의 총 합을 출력해 주세요. 예) 콜라 3개 금액은 1500원 입니다\n",
    "print ({선택한음료} {수량}'개 금액은'{금액 * 수량}'원 입니다.')\n",
    "\n",
    "# 문제3) '사용자에게 금액을 받고 알맞은 결과를 출력해 주세요. 예)5000원을 받고 500원을 잔돈으로 뽑아주세요'\n",
    "지불금액 = int(input('지불할 금액을 입력하세요'))\n",
    "잔돈 = 지불금액 - (금액 * 수량)\n",
    "print(f'{지불금액}원을 받고 {잔돈}원을 잔돈으로 뽑아주세요')"
   ]
  },
  {
   "cell_type": "code",
   "execution_count": 77,
   "id": "f264b431",
   "metadata": {},
   "outputs": [
    {
     "name": "stdout",
     "output_type": "stream",
     "text": [
      "음료선택 레몬녹차 1000원\n",
      "레몬녹차 30개 금액은 30000원 입니다.\n",
      "50000원을 받고 20000원을 잔돈으로 뽑아주세요.\n"
     ]
    }
   ],
   "source": [
    "선택한음료 = input('버튼을 눌러 음료수를 선택해 주세요: ')\n",
    "\n",
    "if 선택한음료 == '콜라':\n",
    "    print('음료 선택 콜라 1700원')\n",
    "    금액 = 1700\n",
    "elif 선택한음료 == '칠성사이다':\n",
    "    print('음료 선택 칠성사이다 1500원')\n",
    "    금액 = 1500\n",
    "elif 선택한음료 == '환타':\n",
    "    print('음료선택 환타 1600원')\n",
    "    금액 = 1600\n",
    "elif 선택한음료 == '레몬녹차':\n",
    "    print('음료선택 레몬녹차 1000원')\n",
    "    금액 = 1000\n",
    "else:\n",
    "    print('술은 집에가서 마셔 이 새기야')\n",
    "\n",
    "# 문제1: 수량 입력\n",
    "수량 = int(input('수량을 입력하세요: '))\n",
    "\n",
    "# 문제2: 총 금액 출력\n",
    "총금액 = 금액 * 수량\n",
    "print(f'{선택한음료} {수량}개 금액은 {총금액}원 입니다.')\n",
    "\n",
    "# 문제3: 지불 금액 받고 잔돈 출력\n",
    "지불금액 = int(input('지불할 금액을 입력하세요: '))\n",
    "잔돈 = 지불금액 - 총금액\n",
    "print(f'{지불금액}원을 받고 {잔돈}원을 잔돈으로 뽑아주세요.')"
   ]
  }
 ],
 "metadata": {
  "kernelspec": {
   "display_name": "Python 3",
   "language": "python",
   "name": "python3"
  },
  "language_info": {
   "codemirror_mode": {
    "name": "ipython",
    "version": 3
   },
   "file_extension": ".py",
   "mimetype": "text/x-python",
   "name": "python",
   "nbconvert_exporter": "python",
   "pygments_lexer": "ipython3",
   "version": "3.13.5"
  }
 },
 "nbformat": 4,
 "nbformat_minor": 5
}
