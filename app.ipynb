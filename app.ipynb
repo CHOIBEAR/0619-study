{
 "cells": [
  {
   "cell_type": "code",
   "execution_count": null,
   "id": "f96e8fcb",
   "metadata": {},
   "outputs": [],
   "source": [
    "# 숫자\n",
    "a = 100 + 36\n",
    "print(a)"
   ]
  },
  {
   "cell_type": "code",
   "execution_count": null,
   "id": "99d8b56e",
   "metadata": {},
   "outputs": [],
   "source": [
    "# 문자열\n",
    "a = '문자열' + '\\t' + \"'출력' 하세요.\"\n",
    "print(a)"
   ]
  },
  {
   "cell_type": "code",
   "execution_count": null,
   "id": "b4ac8d18",
   "metadata": {},
   "outputs": [],
   "source": [
    "a = '내용이 들어 있습니다.'\n",
    "print(a[2])\n",
    "print(a[:3])"
   ]
  },
  {
   "cell_type": "code",
   "execution_count": null,
   "id": "c95638bd",
   "metadata": {},
   "outputs": [],
   "source": [
    "a = '내용이 들어 있습니다.'\n",
    "print(len(a), a[-5:], a[-5:len(a)])"
   ]
  },
  {
   "cell_type": "code",
   "execution_count": null,
   "id": "45bb2061",
   "metadata": {},
   "outputs": [],
   "source": [
    "a = '내용이 들어 있습니다.'\n",
    "print(a, type(a))"
   ]
  }
 ],
 "metadata": {
  "kernelspec": {
   "display_name": "Python 3",
   "language": "python",
   "name": "python3"
  },
  "language_info": {
   "name": "python",
   "version": "3.13.5"
  }
 },
 "nbformat": 4,
 "nbformat_minor": 5
}
