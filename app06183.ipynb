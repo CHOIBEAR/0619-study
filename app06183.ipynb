{
 "cells": [
  {
   "cell_type": "code",
   "execution_count": null,
   "id": "3ed5465e",
   "metadata": {},
   "outputs": [],
   "source": [
    "a = \"Life is too short, You need Python\"\n",
    "print(a[8]+ a[9]+ a[10])"
   ]
  },
  {
   "cell_type": "code",
   "execution_count": null,
   "id": "b77379d7",
   "metadata": {},
   "outputs": [],
   "source": [
    "a = \"Life is too short, You need Python\"\n",
    "print(a[8:11])"
   ]
  },
  {
   "cell_type": "code",
   "execution_count": null,
   "id": "36334c04",
   "metadata": {},
   "outputs": [],
   "source": [
    "a = \"Life is too short, You need Python\"\n",
    "print(a[-1])"
   ]
  },
  {
   "cell_type": "code",
   "execution_count": null,
   "id": "a06da5f0",
   "metadata": {},
   "outputs": [],
   "source": [
    "a = \"Life is too short, You need Python\"\n",
    "print(a[-7:])"
   ]
  },
  {
   "cell_type": "code",
   "execution_count": null,
   "id": "fa320105",
   "metadata": {},
   "outputs": [],
   "source": [
    "a = \"Life is too short, You need Python\"\n",
    "print(a[:4])"
   ]
  },
  {
   "cell_type": "code",
   "execution_count": null,
   "id": "b8d93019",
   "metadata": {},
   "outputs": [],
   "source": [
    "a = \"Life is too short, You need Python\"\n",
    "print(len(a))"
   ]
  },
  {
   "cell_type": "code",
   "execution_count": null,
   "id": "ac0bb0c0",
   "metadata": {},
   "outputs": [],
   "source": [
    "a = \"Life is too short, You need Python\"\n",
    "print(a[-7:len(a)])"
   ]
  },
  {
   "cell_type": "code",
   "execution_count": 1,
   "id": "d84acefb",
   "metadata": {},
   "outputs": [
    {
     "name": "stdout",
     "output_type": "stream",
     "text": [
      "<class 'str'>\n",
      "<class 'int'>\n"
     ]
    }
   ],
   "source": [
    "a = \"Life is too short, You need Python\"\n",
    "print(type(a))\n",
    "print(type(10))"
   ]
  }
 ],
 "metadata": {
  "kernelspec": {
   "display_name": "Python 3",
   "language": "python",
   "name": "python3"
  },
  "language_info": {
   "codemirror_mode": {
    "name": "ipython",
    "version": 3
   },
   "file_extension": ".py",
   "mimetype": "text/x-python",
   "name": "python",
   "nbconvert_exporter": "python",
   "pygments_lexer": "ipython3",
   "version": "3.13.5"
  }
 },
 "nbformat": 4,
 "nbformat_minor": 5
}
